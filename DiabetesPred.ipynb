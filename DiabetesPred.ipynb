{
  "nbformat": 4,
  "nbformat_minor": 0,
  "metadata": {
    "colab": {
      "provenance": [],
      "authorship_tag": "ABX9TyNAlemZOI7EHmrFG5svMdev",
      "include_colab_link": true
    },
    "kernelspec": {
      "name": "python3",
      "display_name": "Python 3"
    },
    "language_info": {
      "name": "python"
    }
  },
  "cells": [
    {
      "cell_type": "markdown",
      "metadata": {
        "id": "view-in-github",
        "colab_type": "text"
      },
      "source": [
        "<a href=\"https://colab.research.google.com/github/yash7800/Calculator/blob/main/DiabetesPred.ipynb\" target=\"_parent\"><img src=\"https://colab.research.google.com/assets/colab-badge.svg\" alt=\"Open In Colab\"/></a>"
      ]
    },
    {
      "cell_type": "code",
      "execution_count": null,
      "metadata": {
        "id": "jyyi3cf-AHrJ"
      },
      "outputs": [],
      "source": []
    },
    {
      "cell_type": "code",
      "source": [
        "import numpy as np\n",
        "import pandas as pd\n",
        "from sklearn.preprocessing import StandardScaler\n",
        "from sklearn.model_selection import train_test_split\n",
        "from sklearn import svm\n",
        "from sklearn.metrics import accuracy_score\n",
        "#loading the dataset diabetes to a pandas data file\n",
        "diabetes_dataset=pd.read_csv('/content/diabetes.csv')\n",
        "# pd.read_csv?\n",
        "#printing the first 5 rows of d dataset\n",
        "diabetes_dataset.head()\n",
        "\n",
        "#no.of rows and cols in this dataset\n",
        "diabetes_dataset.shape\n",
        "diabetes_dataset.describe()\n",
        "diabetes_dataset['Outcome'].value_counts()\n",
        "# non-d 0\n",
        "# d  1\n",
        "diabetes_dataset.groupby('Outcome').mean()\n",
        "# separating the data and labels\n",
        "X=diabetes_dataset.drop(columns='Outcome',axis=1)\n",
        "Y=diabetes_dataset['Outcome']\n",
        "# print(X)\n",
        "# print(Y)\n",
        "scaler=StandardScaler()\n",
        "scaler.fit(X)\n",
        "standardized_data=scaler.transform(X)\n",
        "# print(standardized_data)\n",
        "X=standardized_data\n",
        "Y=diabetes_dataset['Outcome']\n",
        "# print(X)\n",
        "# print(Y)\n",
        "X_train,X_test,Y_train,Y_test=train_test_split(X,Y,test_size=0.2,stratify=Y,random_state=2)\n",
        "# print(X.shape,X_train.shape,X_test.shape)\n",
        "classifier=svm.SVC(kernel='linear')\n",
        "#training the support vector machine classifier\n",
        "classifier.fit(X_train,Y_train)\n",
        "# accuracy score on the training data\n",
        "X_train_prediction=classifier.predict(X_train)\n",
        "training_data_accuracy=accuracy_score(X_train_prediction,Y_train)\n",
        "print('Accuracy score of the training data:',training_data_accuracy)\n",
        "# accuracy score on the test data\n",
        "X_test_prediction=classifier.predict(X_test)\n",
        "test_data_accuracy=accuracy_score(X_test_prediction,Y_test)\n",
        "print('Accuracy score of the test data:',test_data_accuracy)\n",
        "input_data=(0,166,72,19,175,25.8,0.587,50)\n",
        "# changing the input data to numpy array\n",
        "input_data_as_numpy_array=np.asarray(input_data)\n",
        "input_data_reshaped=input_data_as_numpy_array.reshape(1,-1)\n",
        "std_data=scaler.transform(input_data_reshaped)\n",
        "print(std_data)\n",
        "prediction=classifier.predict(std_data)\n",
        "print(prediction)\n",
        "if(prediction[0]==0):\n",
        "  print('The person is not diabetic')\n",
        "else:\n",
        "  print('The person is diabetic')\n",
        "\n",
        "\n",
        "\n"
      ],
      "metadata": {
        "colab": {
          "base_uri": "https://localhost:8080/"
        },
        "id": "zoD92wLFASHD",
        "outputId": "8a33810e-cfc6-4f5f-ed85-76851197dd90"
      },
      "execution_count": 6,
      "outputs": [
        {
          "output_type": "stream",
          "name": "stdout",
          "text": [
            "Accuracy score of the training data: 0.7866449511400652\n",
            "Accuracy score of the test data: 0.7727272727272727\n",
            "[[-1.14185152  1.41167241  0.14964075 -0.09637905  0.82661621 -0.78595734\n",
            "   0.34768723  1.4259954 ]]\n",
            "[0]\n",
            "The person is not diabetic\n"
          ]
        },
        {
          "output_type": "stream",
          "name": "stderr",
          "text": [
            "/usr/local/lib/python3.11/dist-packages/sklearn/utils/validation.py:2739: UserWarning: X does not have valid feature names, but StandardScaler was fitted with feature names\n",
            "  warnings.warn(\n"
          ]
        }
      ]
    },
    {
      "cell_type": "code",
      "source": [],
      "metadata": {
        "id": "3lAIrYuGquZl"
      },
      "execution_count": null,
      "outputs": []
    }
  ]
}